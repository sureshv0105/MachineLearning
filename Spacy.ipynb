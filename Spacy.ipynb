{
  "nbformat": 4,
  "nbformat_minor": 0,
  "metadata": {
    "colab": {
      "provenance": [],
      "authorship_tag": "ABX9TyPbKxmnMM/WPo3khyCfxa37",
      "include_colab_link": true
    },
    "kernelspec": {
      "name": "python3",
      "display_name": "Python 3"
    },
    "language_info": {
      "name": "python"
    }
  },
  "cells": [
    {
      "cell_type": "markdown",
      "metadata": {
        "id": "view-in-github",
        "colab_type": "text"
      },
      "source": [
        "<a href=\"https://colab.research.google.com/github/sureshv0105/MachineLearning/blob/main/Spacy.ipynb\" target=\"_parent\"><img src=\"https://colab.research.google.com/assets/colab-badge.svg\" alt=\"Open In Colab\"/></a>"
      ]
    },
    {
      "cell_type": "markdown",
      "source": [
        "In this Notebook we are going to do some research on how to use Spacy to do Semantic Segmentations."
      ],
      "metadata": {
        "id": "xhIrzdUDS2U1"
      }
    },
    {
      "cell_type": "code",
      "source": [
        "# !python -m spacy download en_core_web_md"
      ],
      "metadata": {
        "id": "-3xplqvnTT5R"
      },
      "execution_count": null,
      "outputs": []
    },
    {
      "cell_type": "code",
      "execution_count": null,
      "metadata": {
        "id": "V6m__FcuSv6O"
      },
      "outputs": [],
      "source": [
        "import spacy\n",
        "import numpy as np\n",
        "nlp = spacy.load(\"en_core_web_md\")"
      ]
    },
    {
      "cell_type": "code",
      "source": [
        "\n",
        "def remove_stop_words(text):\n",
        "    doc = nlp(text)\n",
        "    text_parts = [token.text for token in doc if not token.is_stop]\n",
        "    return \"\".join(text_parts)\n",
        "\n",
        "\n",
        "def split_sentences(text):\n",
        "    doc = nlp(text)\n",
        "    sentences = [sent.text for sent in doc.sents]\n",
        "    return sentences\n",
        "\n",
        "\n",
        "def group_sentences(sentences, size):\n",
        "    sent_idx = 0\n",
        "    segments = []\n",
        "    while sent_idx + size < len(sentences):\n",
        "        segments.append(\" \".join(sentences[sent_idx:sent_idx + size]))\n",
        "        sent_idx += size\n",
        "    segments.append(\" \".join(sentences[sent_idx:]))\n",
        "    return segments"
      ],
      "metadata": {
        "id": "K3d0RPjJTEvW"
      },
      "execution_count": null,
      "outputs": []
    },
    {
      "cell_type": "code",
      "source": [
        "def split_text(text):\n",
        "    text_no_stop_words = remove_stop_words(text)\n",
        "    sentences = split_sentences(text_no_stop_words)\n",
        "    # return group_sentences(sentences, 3)\n",
        "    return group_sentences_with_overlap(sentences, 5, 2)"
      ],
      "metadata": {
        "id": "c2sUeK6TY4S4"
      },
      "execution_count": null,
      "outputs": []
    },
    {
      "cell_type": "code",
      "source": [
        "def group_sentences_with_overlap(sentences, size, overlap):\n",
        "  sent_idx = 0\n",
        "  segments = []\n",
        "  while sent_idx + size < len(sentences):\n",
        "    segments.append(\" \".join(sentences[sent_idx:sent_idx + size]))\n",
        "    sent_idx += (size - overlap)\n",
        "  return segments"
      ],
      "metadata": {
        "id": "7a_BapagYuAh"
      },
      "execution_count": null,
      "outputs": []
    },
    {
      "cell_type": "code",
      "source": [
        "file_name = \"FY24_Technology_North_Start.txt\"\n",
        "# file_name = 'small_file.txt'\n",
        "with open(file_name, 'r') as file:\n",
        "    file_contents = file.read()\n",
        "\n",
        "# group sentences\n",
        "groups = split_text(file_contents)\n",
        "print(len(groups))"
      ],
      "metadata": {
        "colab": {
          "base_uri": "https://localhost:8080/"
        },
        "id": "8UwJfl86Tpth",
        "outputId": "41376887-4a74-40e3-a22a-9266b61905bb"
      },
      "execution_count": null,
      "outputs": [
        {
          "output_type": "stream",
          "name": "stdout",
          "text": [
            "27\n"
          ]
        }
      ]
    },
    {
      "cell_type": "code",
      "source": [
        "def convert_to_vectors(groups_of_sentences):\n",
        "    group_vectors = []\n",
        "    for group in groups_of_sentences:\n",
        "        # Join sentences in the group into a single string\n",
        "        text = \" \".join(group)\n",
        "\n",
        "        # Process the text with Spacy to get the vectors for each sentence\n",
        "        doc = nlp(text)\n",
        "\n",
        "        # Append vectors for each sentence in the group\n",
        "        # sentence_vectors.append([sent.vector for sent in doc.sents])\n",
        "        group_vector = np.mean([sent.vector for sent in doc.sents], axis=0)\n",
        "\n",
        "        # Append the group vector\n",
        "        group_vectors.append(group_vector)\n",
        "\n",
        "    return group_vectors"
      ],
      "metadata": {
        "id": "58pNe9T9dEqd"
      },
      "execution_count": null,
      "outputs": []
    },
    {
      "cell_type": "code",
      "source": [
        "vectors_for_groups = convert_to_vectors(groups)"
      ],
      "metadata": {
        "id": "zrONXV8AdLgg"
      },
      "execution_count": null,
      "outputs": []
    },
    {
      "cell_type": "code",
      "source": [
        "vectors_for_groups[0].shape"
      ],
      "metadata": {
        "colab": {
          "base_uri": "https://localhost:8080/"
        },
        "id": "0GjRNqhVdd3q",
        "outputId": "fccb3956-e943-465c-e932-d878a265af3b"
      },
      "execution_count": null,
      "outputs": [
        {
          "output_type": "execute_result",
          "data": {
            "text/plain": [
              "(300,)"
            ]
          },
          "metadata": {},
          "execution_count": 53
        }
      ]
    }
  ]
}